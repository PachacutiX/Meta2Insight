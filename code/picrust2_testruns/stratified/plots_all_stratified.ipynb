{
 "cells": [
  {
   "cell_type": "code",
   "execution_count": 3,
   "id": "24a834b6",
   "metadata": {},
   "outputs": [],
   "source": [
    "## PICRUSt2 data visualisations, based on PICRUSt2 run from 17 September\n",
    "\n",
    "\n",
    "# Import libraries\n",
    "import pandas as pd\n",
    "import numpy as np\n",
    "import matplotlib.pyplot as plt\n",
    "\n",
    "# Load data\n",
    "data_ec_predicted = pd.read_csv('~/Thesis/data/picrust2_testruns/picrust2_stratified/picrust2_out_pipeline_stratified_lasse/EC_metagenome_out/pred_metagenome_contrib.tsv', sep='\\t', index_col=0)\n",
    "data_weighted_nsti = pd.read_csv('~/Thesis/data/picrust2_testruns/picrust2_stratified/picrust2_out_pipeline_stratified_lasse/EC_metagenome_out/weighted_nsti.tsv', sep='\\t', index_col=0)\n",
    "data_pred_metagenome_unstrat = pd.read_csv('~/Thesis/data/picrust2_testruns/picrust2_stratified/picrust2_out_pipeline_stratified_lasse/EC_metagenome_out/pred_metagenome_unstrat.tsv', sep='\\t', index_col=0)\n",
    "data_path_abun_unstrat = pd.read_csv('~/Thesis/data/picrust2_testruns/picrust2_stratified/picrust2_out_pipeline_stratified_lasse/pathways_out/path_abun_unstrat.tsv', sep='\\t', index_col=0)\n",
    "data_path_abun_contrib = pd.read_csv('~/Thesis/data/picrust2_testruns/picrust2_stratified/picrust2_out_pipeline_stratified_lasse/pathways_out/path_abun_contrib.tsv', sep='\\t', index_col=0)\n",
    "\n",
    "\n",
    "# NSTI filter (keep only relatively closely related reference genomes)\n"
   ]
  },
  {
   "cell_type": "code",
   "execution_count": null,
   "id": "373a9a54",
   "metadata": {},
   "outputs": [],
   "source": [
    "# Heatmap of stratified pathway abundances across samples\n",
    "\n",
    "\n",
    "# --- Choose what to show (pick ONE of the following blocks) ---\n",
    "\n",
    "# (A) Show a custom list of pathways (uncomment + edit)\n",
    "# keep = [\n",
    "#     \"METHANOGENESIS-PWY\", \"1CMET2-PWY\", \"CO2FIXATION-PWY\",  # example IDs\n",
    "# ]\n",
    "# df_plot = df.loc[[p for p in keep if p in df.index]]\n",
    "\n",
    "# (B) Auto-select top pathways (by total abundance) to keep the figure readable\n",
    "N = 30  # show top 30 pathways\n",
    "df_plot = data_path_abun_contrib.loc[data_path_abun_contrib.sum(axis=1).sort_values(ascending=False).head(N).index]\n",
    "\n",
    "# Optional: instead of totals, use variability to pick interesting rows\n",
    "# N = 30\n",
    "# df_plot = df.loc[df.var(axis=1).sort_values(ascending=False).head(N).index]\n",
    "\n",
    "# --- Transform (optional) ---\n",
    "# Log-transform to compress large dynamic ranges (safe for zeros)\n",
    "df_val = np.log10(df_plot + 1)\n",
    "\n",
    "# Per-row z-score (optional alternative to log): center each pathway across samples\n",
    "# df_val = df_plot.apply(lambda r: (r - r.mean()) / (r.std(ddof=0) + 1e-9), axis=1)\n",
    "\n",
    "# --- Plot ---\n",
    "fig, ax = plt.subplots(figsize=(max(8, 0.4*df_val.shape[1]), max(6, 0.35*df_val.shape[0])))\n",
    "im = ax.imshow(df_val.values, aspect='auto', interpolation='nearest')\n",
    "\n",
    "# Axis ticks/labels\n",
    "ax.set_xticks(range(df_val.shape[1]))\n",
    "ax.set_xticklabels(df_val.columns, rotation=90, fontsize=8)\n",
    "ax.set_yticks(range(df_val.shape[0]))\n",
    "ax.set_yticklabels(df_val.index, fontsize=8)\n",
    "\n",
    "# Titles/labels\n",
    "ax.set_title(\"Pathway abundance heatmap (log10-scaled)\", pad=12)\n",
    "ax.set_xlabel(\"Samples\")\n",
    "ax.set_ylabel(\"Pathways\")\n",
    "\n",
    "# Colorbar\n",
    "cbar = plt.colorbar(im, ax=ax, fraction=0.046, pad=0.04)\n",
    "cbar.set_label(\"log10(abundance + 1)\")\n",
    "\n",
    "plt.tight_layout()\n",
    "\n",
    "plt.show()\n"
   ]
  }
 ],
 "metadata": {
  "kernelspec": {
   "display_name": "picrust25",
   "language": "python",
   "name": "python3"
  },
  "language_info": {
   "codemirror_mode": {
    "name": "ipython",
    "version": 3
   },
   "file_extension": ".py",
   "mimetype": "text/x-python",
   "name": "python",
   "nbconvert_exporter": "python",
   "pygments_lexer": "ipython3",
   "version": "3.9.23"
  }
 },
 "nbformat": 4,
 "nbformat_minor": 5
}
