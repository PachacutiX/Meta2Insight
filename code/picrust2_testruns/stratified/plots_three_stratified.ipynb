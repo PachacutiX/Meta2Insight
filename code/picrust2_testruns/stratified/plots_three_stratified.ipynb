{
 "cells": [
  {
   "cell_type": "code",
   "execution_count": 14,
   "id": "7e87e331",
   "metadata": {},
   "outputs": [],
   "source": [
    "# Import libraries\n",
    "import pandas as pd\n",
    "import numpy as np\n",
    "import matplotlib.pyplot as plt\n",
    "\n",
    "# Load data\n",
    "data_ec_predicted = pd.read_csv('~/Thesis/data/picrust2_testruns/picrust2_stratified/picrust2_out_pipeline_stratified_lasse/EC_metagenome_out/pred_metagenome_contrib.tsv', sep='\\t', dtype=str)\n",
    "data_weighted_nsti = pd.read_csv('~/Thesis/data/picrust2_testruns/picrust2_stratified/picrust2_out_pipeline_stratified_lasse/EC_metagenome_out/weighted_nsti.tsv', sep='\\t', dtype=str)\n",
    "data_pred_metagenome_unstrat = pd.read_csv('~/Thesis/data/picrust2_testruns/picrust2_stratified/picrust2_out_pipeline_stratified_lasse/EC_metagenome_out/pred_metagenome_unstrat.tsv', sep='\\t', dtype=str)\n",
    "data_path_abun_unstrat = pd.read_csv('~/Thesis/data/picrust2_testruns/picrust2_stratified/picrust2_out_pipeline_stratified_lasse/pathways_out/path_abun_unstrat.tsv', sep='\\t', dtype=str)\n",
    "data_path_abun_contrib = pd.read_csv('~/Thesis/data/picrust2_testruns/picrust2_stratified/picrust2_out_pipeline_stratified_lasse/pathways_out/path_abun_contrib.tsv', sep='\\t', dtype=str)\n",
    "\n",
    "# Filter to three samples (barcode01 = Køng_SBP_silaged, barcode25 = NL_SBP_silaged, barcode49 = Køng_PR1)\n",
    "samples = ['barcode01', 'barcode25', 'barcode49']\n",
    "data_ec_predicted_filtered = data_ec_predicted[data_ec_predicted[\"sample\"].isin(samples)]\n",
    "data_weighted_nsti_filtered = data_weighted_nsti[data_weighted_nsti[\"sample\"].isin(samples)]\n",
    "data_pred_metagenome_unstrat_filtered = data_pred_metagenome_unstrat[samples]\n",
    "data_path_abun_unstrat_filtered = data_path_abun_unstrat[samples]\n",
    "data_path_abun_contrib_filtered = data_path_abun_contrib[data_path_abun_contrib[\"sample\"].isin(samples)]"
   ]
  },
  {
   "cell_type": "code",
   "execution_count": null,
   "id": "689b9b60",
   "metadata": {},
   "outputs": [],
   "source": []
  }
 ],
 "metadata": {
  "kernelspec": {
   "display_name": "picrust_plot",
   "language": "python",
   "name": "python3"
  },
  "language_info": {
   "codemirror_mode": {
    "name": "ipython",
    "version": 3
   },
   "file_extension": ".py",
   "mimetype": "text/x-python",
   "name": "python",
   "nbconvert_exporter": "python",
   "pygments_lexer": "ipython3",
   "version": "3.10.18"
  }
 },
 "nbformat": 4,
 "nbformat_minor": 5
}
